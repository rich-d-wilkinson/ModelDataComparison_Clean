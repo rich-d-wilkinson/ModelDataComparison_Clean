{
 "cells": [
  {
   "cell_type": "code",
   "execution_count": 1,
   "metadata": {
    "collapsed": false
   },
   "outputs": [
    {
     "name": "stdout",
     "output_type": "stream",
     "text": [
      "tczyi.txt\n",
      "tczyj.txt\n",
      "tczyk.txt\n",
      "tdgtg.txt\n",
      "tdgth.txt\n",
      "tdgti.txt\n",
      "tdgtj.txt\n",
      "tdgtk.txt\n"
     ]
    }
   ],
   "source": [
    "import GPy\n",
    "import sys\n",
    "import os\n",
    "sys.path.append(os.getenv(\"HOME\") + \"/Documents/Code/Emulation/GPyDifferentMetrics/\")\n",
    "from HaversineDist import Exponentialhaversine\n",
    "import numpy as np\n",
    "%matplotlib inline\n",
    "from mpl_toolkits.basemap import Basemap\n",
    "import matplotlib.pyplot as plt\n",
    "import matplotlib\n",
    "import glob as glob\n",
    "from cmocean import cm as cm\n",
    "from Utilities import *\n",
    "\n",
    "\n",
    "\n",
    "GCM_dir = os.getenv(\"HOME\")+'/Documents/Code/ModelDataComparison/DMC/Scripts/Model_data/CO2_anom/'\n",
    "gcm_SSTs = glob.glob(GCM_dir+'t*.txt')\n",
    "\n",
    "gcm_mask = np.genfromtxt(GCM_dir+'mask.txt', dtype='int')\n",
    "\n",
    "obs_dir = os.getenv(\"HOME\")+'/Documents/Code/ModelDataComparison/DMC/Scripts/Observation_data/P3+_SST_anom/'\n",
    "file = 'lambda_10.txt'\n",
    "observations = np.genfromtxt(obs_dir+file, skip_header=1)\n",
    "\n",
    "X_obs = observations[:,0:2]\n",
    "y_obs = observations[:,2].reshape(-1,1)\n",
    "var_ratios = observations[:,3][:,None]**2\n",
    "\n",
    "latsplot = np.arange(-90.0,90.0, 2.5)\n",
    "longsplot = np.arange(-180.0,180.0, 2.5)\n",
    "longgridplot, latgridplot = np.meshgrid(longsplot, latsplot)\n",
    "X_plot=np.column_stack((longgridplot.flatten(), latgridplot.flatten())) # specifies the prediction locations\n",
    "\n",
    "\n",
    "count=0\n",
    "gcm_runs = np.zeros((8,27186))\n",
    "gcm_runs_label = gcm_SSTs.copy()\n",
    "\n",
    "for file_name in gcm_SSTs:\n",
    "    file_nm = file_name.split(GCM_dir)[-1]\n",
    "    print(file_nm)\n",
    "    # Read in GCM output.\n",
    "    gcm_runs[count,:] = np.genfromtxt(file_name)\n",
    "    gcm_runs_label[count] = file_nm.split(\".txt\")[0]\n",
    "    count +=1"
   ]
  },
  {
   "cell_type": "code",
   "execution_count": 26,
   "metadata": {
    "collapsed": false
   },
   "outputs": [
    {
     "name": "stdout",
     "output_type": "stream",
     "text": [
      "Warning - ARD must be False at the moment\n"
     ]
    }
   ],
   "source": [
    "k = Exponentialhaversine(2)\n",
    "dist = k._unscaled_dist(X_plot)"
   ]
  },
  {
   "cell_type": "code",
   "execution_count": 7,
   "metadata": {
    "collapsed": false
   },
   "outputs": [],
   "source": [
    "from scipy.spatial.distance import squareform"
   ]
  },
  {
   "cell_type": "code",
   "execution_count": 10,
   "metadata": {
    "collapsed": false
   },
   "outputs": [
    {
     "data": {
      "text/plain": [
       "4465"
      ]
     },
     "execution_count": 10,
     "metadata": {},
     "output_type": "execute_result"
    }
   ],
   "source": [
    "squareform(dist)"
   ]
  },
  {
   "cell_type": "code",
   "execution_count": 27,
   "metadata": {
    "collapsed": false
   },
   "outputs": [
    {
     "data": {
      "text/plain": [
       "array([  0.00000000e+00,   1.70204636e-14,   3.40328264e-14, ...,\n",
       "         1.97370995e+04,   1.97370995e+04,   1.97370995e+04])"
      ]
     },
     "execution_count": 27,
     "metadata": {},
     "output_type": "execute_result"
    }
   ],
   "source": [
    "dist[0,:]"
   ]
  },
  {
   "cell_type": "code",
   "execution_count": 13,
   "metadata": {
    "collapsed": false
   },
   "outputs": [
    {
     "data": {
      "text/plain": [
       "4465.0"
      ]
     },
     "execution_count": 13,
     "metadata": {},
     "output_type": "execute_result"
    }
   ],
   "source": [
    "95*94/2"
   ]
  },
  {
   "cell_type": "code",
   "execution_count": 14,
   "metadata": {
    "collapsed": true
   },
   "outputs": [],
   "source": [
    "def SVh( X, y, h, bw ):\n",
    "    '''\n",
    "    Experimental semivariogram for a single lag\n",
    "    '''\n",
    "    pd = k._unscaled_dist( X )\n",
    "    N = pd.shape[0]\n",
    "    Z = list()\n",
    "    for i in range(N):\n",
    "        for j in range(i+1,N):\n",
    "            if( pd[i,j] >= h-bw )and( pd[i,j] <= h+bw ):\n",
    "                Z.append( ( y[i] - y[j] )**2.0 )\n",
    "    return np.sum( Z ) / ( 2.0 * len( Z ) )\n"
   ]
  },
  {
   "cell_type": "code",
   "execution_count": 29,
   "metadata": {
    "collapsed": false
   },
   "outputs": [
    {
     "data": {
      "text/plain": [
       "0.13803064961021638"
      ]
     },
     "execution_count": 29,
     "metadata": {},
     "output_type": "execute_result"
    }
   ],
   "source": [
    "SVh(X_plot, gcm_runs[0,:],1000,1000)"
   ]
  },
  {
   "cell_type": "code",
   "execution_count": 16,
   "metadata": {
    "collapsed": true
   },
   "outputs": [],
   "source": [
    "def SV( X, y, hs, bw ):\n",
    "    '''\n",
    "    Experimental variogram for a collection of lags\n",
    "    '''\n",
    "    sv = list()\n",
    "    for h in hs:\n",
    "        sv.append( SVh( X, y, h, bw ) )\n",
    "    sv = [ [ hs[i], sv[i] ] for i in range( len( hs ) ) if sv[i] > 0 ]\n",
    "    return np.array( sv ).T\n",
    "\n"
   ]
  },
  {
   "cell_type": "code",
   "execution_count": 30,
   "metadata": {
    "collapsed": false
   },
   "outputs": [
    {
     "data": {
      "text/plain": [
       "[<matplotlib.lines.Line2D at 0x11075a978>]"
      ]
     },
     "execution_count": 30,
     "metadata": {},
     "output_type": "execute_result"
    },
    {
     "data": {
      "image/png": "[encoded data removed]",
      "text/plain": [
       "<matplotlib.figure.Figure at 0x11095e780>"
      ]
     },
     "metadata": {},
     "output_type": "display_data"
    }
   ],
   "source": [
    "sv=SV(X_plot,gcm_runs[0,:], np.arange(1000,10000, 1000), 500)\n",
    "plt.plot( sv[0], sv[1], '.-' )"
   ]
  },
  {
   "cell_type": "code",
   "execution_count": 20,
   "metadata": {
    "collapsed": false
   },
   "outputs": [
    {
     "data": {
      "text/plain": [
       "array([1000, 2000, 3000, 4000, 5000, 6000, 7000, 8000, 9000])"
      ]
     },
     "execution_count": 20,
     "metadata": {},
     "output_type": "execute_result"
    }
   ],
   "source": [
    "np.arange(1000,10000, 1000)"
   ]
  },
  {
   "cell_type": "code",
   "execution_count": null,
   "metadata": {
    "collapsed": true
   },
   "outputs": [],
   "source": [
    "gcm_r"
   ]
  }
 ],
 "metadata": {
  "kernelspec": {
   "display_name": "Python [conda root]",
   "language": "python",
   "name": "conda-root-py"
  },
  "language_info": {
   "codemirror_mode": {
    "name": "ipython",
    "version": 3
   },
   "file_extension": ".py",
   "mimetype": "text/x-python",
   "name": "python",
   "nbconvert_exporter": "python",
   "pygments_lexer": "ipython3",
   "version": "3.5.2"
  }
 },
 "nbformat": 4,
 "nbformat_minor": 1
}
